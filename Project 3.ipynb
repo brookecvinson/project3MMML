{
 "cells": [
  {
   "cell_type": "code",
   "execution_count": 1,
   "id": "b55bffc6",
   "metadata": {},
   "outputs": [],
   "source": [
    "import pandas as pd\n",
    "import matplotlib.pyplot as plt\n",
    "import numpy as np\n",
    "import librosa"
   ]
  },
  {
   "cell_type": "markdown",
   "id": "fb5b9a9f",
   "metadata": {},
   "source": [
    "# Splitting the dataset and loading audio files"
   ]
  },
  {
   "cell_type": "code",
   "execution_count": 4,
   "id": "f66626d7",
   "metadata": {},
   "outputs": [],
   "source": [
    "import os\n",
    "import random\n",
    "\n",
    "angry_trainName = []\n",
    "angry_testName = random.sample(os.listdir('emotion_audio/angry'), 30)\n",
    "\n",
    "for fileName in os.listdir('emotion_audio/angry'):\n",
    "    if fileName not in angry_testName:\n",
    "        angry_trainName.append(fileName)\n",
    "\n",
    "fear_trainName = []\n",
    "fear_testName = random.sample(os.listdir('emotion_audio/fear'), 30)\n",
    "\n",
    "for fileName in os.listdir('emotion_audio/fear'):\n",
    "    if fileName not in fear_testName:\n",
    "        fear_trainName.append(fileName)\n",
    "        \n",
    "happy_trainName = []\n",
    "happy_testName = random.sample(os.listdir('emotion_audio/happy'), 30)\n",
    "\n",
    "for fileName in os.listdir('emotion_audio/happy'):\n",
    "    if fileName not in happy_testName:\n",
    "        happy_trainName.append(fileName)\n",
    "\n",
    "sad_trainName = []\n",
    "sad_testName = random.sample(os.listdir('emotion_audio/sad'), 30)\n",
    "\n",
    "for fileName in os.listdir('emotion_audio/sad'):\n",
    "    if fileName not in sad_testName:\n",
    "        sad_trainName.append(fileName)"
   ]
  },
  {
   "cell_type": "code",
   "execution_count": 5,
   "id": "d63b19de",
   "metadata": {},
   "outputs": [],
   "source": [
    "train_signal = []\n",
    "train_sample_rate = []\n",
    "\n",
    "for fileName in angry_trainName:\n",
    "    fileName = 'emotion_audio/angry/' + fileName\n",
    "    signal, sample_rate = librosa.load(fileName)\n",
    "    train_signal.append(signal)\n",
    "    train_sample_rate.append(sample_rate)\n",
    "\n",
    "test_signal = []\n",
    "test_sample_rate = []\n",
    "\n",
    "for fileName in angry_testName:\n",
    "    fileName = 'emotion_audio/angry/' + fileName\n",
    "    signal, sample_rate = librosa.load(fileName)\n",
    "    test_signal.append(signal)\n",
    "    test_sample_rate.append(sample_rate)\n",
    "\n",
    "for fileName in fear_trainName:\n",
    "    fileName = 'emotion_audio/fear/' + fileName\n",
    "    signal, sample_rate = librosa.load(fileName)\n",
    "    train_signal.append(signal)\n",
    "    train_sample_rate.append(sample_rate)\n",
    "\n",
    "for fileName in fear_testName:\n",
    "    fileName = 'emotion_audio/fear/' + fileName\n",
    "    signal, sample_rate = librosa.load(fileName)\n",
    "    test_signal.append(signal)\n",
    "    test_sample_rate.append(sample_rate)\n",
    "\n",
    "for fileName in happy_trainName:\n",
    "    fileName = 'emotion_audio/happy/' + fileName\n",
    "    signal, sample_rate = librosa.load(fileName)\n",
    "    train_signal.append(signal)\n",
    "    train_sample_rate.append(sample_rate)\n",
    "\n",
    "for fileName in happy_testName:\n",
    "    fileName = 'emotion_audio/happy/' + fileName\n",
    "    signal, sample_rate = librosa.load(fileName)\n",
    "    test_signal.append(signal)\n",
    "    test_sample_rate.append(sample_rate)\n",
    "\n",
    "for fileName in sad_trainName:\n",
    "    fileName = 'emotion_audio/sad/' + fileName\n",
    "    signal, sample_rate = librosa.load(fileName)\n",
    "    train_signal.append(signal)\n",
    "    train_sample_rate.append(sample_rate)\n",
    "\n",
    "for fileName in sad_testName:\n",
    "    fileName = 'emotion_audio/sad/' + fileName\n",
    "    signal, sample_rate = librosa.load(fileName)\n",
    "    test_signal.append(signal)\n",
    "    test_sample_rate.append(sample_rate)"
   ]
  },
  {
   "cell_type": "markdown",
   "id": "97d14e05",
   "metadata": {},
   "source": [
    "# Feature Extraction"
   ]
  },
  {
   "cell_type": "code",
   "execution_count": 6,
   "id": "fcfad2f5",
   "metadata": {},
   "outputs": [],
   "source": [
    "x_train_chroma = []\n",
    "x_test_chroma = []\n",
    "\n",
    "for i in range(len(train_signal)):\n",
    "    chromagram = librosa.feature.chroma_stft(y=train_signal[i], sr=train_sample_rate[i])\n",
    "    chromagram = chromagram.flatten()\n",
    "    chromagram = chromagram[:700]\n",
    "    x_train_chroma.append(chromagram)\n",
    "for i in range(len(test_signal)):\n",
    "    chromagram = librosa.feature.chroma_stft(y=test_signal[i], sr=test_sample_rate[i])\n",
    "    chromagram = chromagram.flatten()\n",
    "    chromagram = chromagram[:700]\n",
    "    x_test_chroma.append(chromagram)\n",
    "    \n",
    "y_train = ['angry']*70\n",
    "y_train.extend(['fear']*70)\n",
    "y_train.extend(['happy']*70)\n",
    "y_train.extend(['sad']*70)\n",
    "\n",
    "y_test = ['angry']*30\n",
    "y_test.extend(['fear']*30)\n",
    "y_test.extend(['happy']*30)\n",
    "y_test.extend(['sad']*30)"
   ]
  },
  {
   "cell_type": "code",
   "execution_count": 7,
   "id": "ff258089",
   "metadata": {},
   "outputs": [],
   "source": [
    "x_train_zrc = []\n",
    "x_test_zrc = []\n",
    "\n",
    "for i in range(len(train_signal)):\n",
    "    zrc = librosa.feature.zero_crossing_rate(y = train_signal[i])\n",
    "    zrc = zrc.flatten()\n",
    "    zrc = zrc[:60]\n",
    "    x_train_zrc.append(zrc)\n",
    "for i in range(len(test_signal)):\n",
    "    zrc = librosa.feature.zero_crossing_rate(y = test_signal[i])\n",
    "    zrc = zrc.flatten()\n",
    "    zrc = zrc[:60]\n",
    "    x_test_zrc.append(zrc)"
   ]
  },
  {
   "cell_type": "code",
   "execution_count": 8,
   "id": "af5facca",
   "metadata": {},
   "outputs": [],
   "source": [
    "x_train_melspectrogram = []\n",
    "x_test_melspectrogram = []\n",
    "\n",
    "for i in range(len(train_signal)):\n",
    "    melspectrogram = librosa.feature.melspectrogram(y=train_signal[i], sr=train_sample_rate[i])\n",
    "    melspectrogram = melspectrogram.flatten()\n",
    "    melspectrogram = melspectrogram[:7900]\n",
    "    x_train_melspectrogram.append(melspectrogram)\n",
    "for i in range(len(test_signal)):\n",
    "    melspectrogram = librosa.feature.melspectrogram(y=test_signal[i], sr=test_sample_rate[i])\n",
    "    melspectrogram = melspectrogram.flatten()\n",
    "    melspectrogram = melspectrogram[:7900]\n",
    "    x_test_melspectrogram.append(melspectrogram)"
   ]
  },
  {
   "cell_type": "markdown",
   "id": "d316b0d5",
   "metadata": {},
   "source": [
    "# Building and Evaluating Model for Chromagram Feature"
   ]
  },
  {
   "cell_type": "code",
   "execution_count": 9,
   "id": "194ef86a",
   "metadata": {},
   "outputs": [],
   "source": [
    "from sklearn.svm import SVC\n",
    "from sklearn.naive_bayes import GaussianNB\n",
    "from sklearn.ensemble import RandomForestClassifier\n",
    "from sklearn.metrics import ConfusionMatrixDisplay, confusion_matrix, roc_curve, auc, classification_report"
   ]
  },
  {
   "cell_type": "code",
   "execution_count": 10,
   "id": "565c550a",
   "metadata": {},
   "outputs": [
    {
     "data": {
      "text/plain": [
       "RandomForestClassifier()"
      ]
     },
     "execution_count": 10,
     "metadata": {},
     "output_type": "execute_result"
    }
   ],
   "source": [
    "svm = SVC(probability=True)\n",
    "nbc = GaussianNB()\n",
    "rfc = RandomForestClassifier()\n",
    "svm.fit(x_train_chroma, y_train)\n",
    "nbc.fit(x_train_chroma, y_train)\n",
    "rfc.fit(x_train_chroma, y_train)"
   ]
  },
  {
   "cell_type": "code",
   "execution_count": 11,
   "id": "0c9e3e68",
   "metadata": {},
   "outputs": [],
   "source": [
    "y_svm_predicted = svm.predict(x_test_chroma)\n",
    "y_svm_pred_proba = svm.predict_proba(x_test_chroma)\n",
    "\n",
    "y_nbc_predicted = nbc.predict(x_test_chroma)\n",
    "y_nbc_pred_proba = nbc.predict_proba(x_test_chroma)\n",
    "\n",
    "y_rfc_predicted = rfc.predict(x_test_chroma)\n",
    "y_rfc_pred_proba = rfc.predict_proba(x_test_chroma)"
   ]
  },
  {
   "cell_type": "code",
   "execution_count": 12,
   "id": "58164ec0",
   "metadata": {},
   "outputs": [
    {
     "name": "stdout",
     "output_type": "stream",
     "text": [
      "              precision    recall  f1-score   support\n",
      "\n",
      "       angry       0.93      0.87      0.90        30\n",
      "        fear       0.86      1.00      0.92        30\n",
      "       happy       1.00      0.93      0.97        30\n",
      "         sad       0.97      0.93      0.95        30\n",
      "\n",
      "    accuracy                           0.93       120\n",
      "   macro avg       0.94      0.93      0.93       120\n",
      "weighted avg       0.94      0.93      0.93       120\n",
      "\n",
      "              precision    recall  f1-score   support\n",
      "\n",
      "       angry       0.74      0.83      0.78        30\n",
      "        fear       0.81      0.97      0.88        30\n",
      "       happy       1.00      0.93      0.97        30\n",
      "         sad       1.00      0.73      0.85        30\n",
      "\n",
      "    accuracy                           0.87       120\n",
      "   macro avg       0.89      0.87      0.87       120\n",
      "weighted avg       0.89      0.87      0.87       120\n",
      "\n",
      "              precision    recall  f1-score   support\n",
      "\n",
      "       angry       0.93      0.87      0.90        30\n",
      "        fear       0.88      0.97      0.92        30\n",
      "       happy       0.97      0.97      0.97        30\n",
      "         sad       1.00      0.97      0.98        30\n",
      "\n",
      "    accuracy                           0.94       120\n",
      "   macro avg       0.94      0.94      0.94       120\n",
      "weighted avg       0.94      0.94      0.94       120\n",
      "\n"
     ]
    }
   ],
   "source": [
    "print(classification_report(y_test, y_svm_predicted))\n",
    "print(classification_report(y_test, y_nbc_predicted))\n",
    "print(classification_report(y_test, y_rfc_predicted))"
   ]
  },
  {
   "cell_type": "code",
   "execution_count": 13,
   "id": "4c774c78",
   "metadata": {},
   "outputs": [
    {
     "data": {
      "image/png": "[encoded data removed]",
      "text/plain": [
       "<Figure size 432x288 with 1 Axes>"
      ]
     },
     "metadata": {
      "needs_background": "light"
     },
     "output_type": "display_data"
    },
    {
     "data": {
      "image/png": "[encoded data removed]",
      "text/plain": [
       "<Figure size 432x288 with 1 Axes>"
      ]
     },
     "metadata": {
      "needs_background": "light"
     },
     "output_type": "display_data"
    },
    {
     "data": {
      "image/png": "[encoded data removed]",
      "text/plain": [
       "<Figure size 432x288 with 1 Axes>"
      ]
     },
     "metadata": {
      "needs_background": "light"
     },
     "output_type": "display_data"
    }
   ],
   "source": [
    "models = ['Support Vector Machine for Chromagram', 'Naive Bayes Classifier for Chromagram', 'Random Forest Classifier for Chromagram']\n",
    "predictions = [y_svm_predicted, y_nbc_predicted, y_rfc_predicted]\n",
    "pred_probabilities = [y_svm_pred_proba, y_nbc_pred_proba, y_rfc_pred_proba]\n",
    "\n",
    "plot = 1\n",
    "\n",
    "for model, prediction, pred_proba in zip(models, predictions, pred_probabilities):\n",
    "    disp = ConfusionMatrixDisplay(confusion_matrix(y_test, prediction))\n",
    "    disp.plot(\n",
    "        include_values=True,\n",
    "        cmap='gray',\n",
    "        colorbar=False\n",
    "    )\n",
    "    disp.ax_.set_title(f\"{model} Confusion Matrix\")"
   ]
  },
  {
   "cell_type": "markdown",
   "id": "d77f9991",
   "metadata": {},
   "source": [
    "# Building and Evaluating Model for Zero Crossing Rate"
   ]
  },
  {
   "cell_type": "code",
   "execution_count": 14,
   "id": "c4d4607c",
   "metadata": {},
   "outputs": [
    {
     "data": {
      "text/plain": [
       "RandomForestClassifier()"
      ]
     },
     "execution_count": 14,
     "metadata": {},
     "output_type": "execute_result"
    }
   ],
   "source": [
    "svm = SVC(probability=True)\n",
    "nbc = GaussianNB()\n",
    "rfc = RandomForestClassifier()\n",
    "svm.fit(x_train_zrc, y_train)\n",
    "nbc.fit(x_train_zrc, y_train)\n",
    "rfc.fit(x_train_zrc, y_train)"
   ]
  },
  {
   "cell_type": "code",
   "execution_count": 15,
   "id": "e14895e8",
   "metadata": {},
   "outputs": [],
   "source": [
    "y_svm_predicted = svm.predict(x_test_zrc)\n",
    "y_svm_pred_proba = svm.predict_proba(x_test_zrc)\n",
    "\n",
    "y_nbc_predicted = nbc.predict(x_test_zrc)\n",
    "y_nbc_pred_proba = nbc.predict_proba(x_test_zrc)\n",
    "\n",
    "y_rfc_predicted = rfc.predict(x_test_zrc)\n",
    "y_rfc_pred_proba = rfc.predict_proba(x_test_zrc)"
   ]
  },
  {
   "cell_type": "code",
   "execution_count": 16,
   "id": "b1b6435f",
   "metadata": {},
   "outputs": [
    {
     "name": "stdout",
     "output_type": "stream",
     "text": [
      "              precision    recall  f1-score   support\n",
      "\n",
      "       angry       0.93      0.90      0.92        30\n",
      "        fear       0.89      0.80      0.84        30\n",
      "       happy       0.79      0.90      0.84        30\n",
      "         sad       1.00      1.00      1.00        30\n",
      "\n",
      "    accuracy                           0.90       120\n",
      "   macro avg       0.90      0.90      0.90       120\n",
      "weighted avg       0.90      0.90      0.90       120\n",
      "\n",
      "              precision    recall  f1-score   support\n",
      "\n",
      "       angry       0.90      0.93      0.92        30\n",
      "        fear       0.96      0.87      0.91        30\n",
      "       happy       0.88      0.97      0.92        30\n",
      "         sad       1.00      0.97      0.98        30\n",
      "\n",
      "    accuracy                           0.93       120\n",
      "   macro avg       0.94      0.93      0.93       120\n",
      "weighted avg       0.94      0.93      0.93       120\n",
      "\n",
      "              precision    recall  f1-score   support\n",
      "\n",
      "       angry       1.00      0.97      0.98        30\n",
      "        fear       1.00      1.00      1.00        30\n",
      "       happy       0.97      1.00      0.98        30\n",
      "         sad       1.00      1.00      1.00        30\n",
      "\n",
      "    accuracy                           0.99       120\n",
      "   macro avg       0.99      0.99      0.99       120\n",
      "weighted avg       0.99      0.99      0.99       120\n",
      "\n"
     ]
    }
   ],
   "source": [
    "print(classification_report(y_test, y_svm_predicted))\n",
    "print(classification_report(y_test, y_nbc_predicted))\n",
    "print(classification_report(y_test, y_rfc_predicted))"
   ]
  },
  {
   "cell_type": "code",
   "execution_count": 17,
   "id": "3a7d9352",
   "metadata": {},
   "outputs": [
    {
     "data": {
      "image/png": "[encoded data removed]",
      "text/plain": [
       "<Figure size 432x288 with 1 Axes>"
      ]
     },
     "metadata": {
      "needs_background": "light"
     },
     "output_type": "display_data"
    },
    {
     "data": {
      "image/png": "[encoded data removed]",
      "text/plain": [
       "<Figure size 432x288 with 1 Axes>"
      ]
     },
     "metadata": {
      "needs_background": "light"
     },
     "output_type": "display_data"
    },
    {
     "data": {
      "image/png": "[encoded data removed]",
      "text/plain": [
       "<Figure size 432x288 with 1 Axes>"
      ]
     },
     "metadata": {
      "needs_background": "light"
     },
     "output_type": "display_data"
    }
   ],
   "source": [
    "models = ['Support Vector Machine for Zero Crossing Rate', 'Naive Bayes Classifier for Zero Crossing Rate', 'Random Forest Classifier for Zero Crossing Rate']\n",
    "predictions = [y_svm_predicted, y_nbc_predicted, y_rfc_predicted]\n",
    "pred_probabilities = [y_svm_pred_proba, y_nbc_pred_proba, y_rfc_pred_proba]\n",
    "\n",
    "plot = 1\n",
    "\n",
    "for model, prediction, pred_proba in zip(models, predictions, pred_probabilities):\n",
    "    disp = ConfusionMatrixDisplay(confusion_matrix(y_test, prediction))\n",
    "    disp.plot(\n",
    "        include_values=True,\n",
    "        cmap='gray',\n",
    "        colorbar=False\n",
    "    )\n",
    "    disp.ax_.set_title(f\"{model} Confusion Matrix\")"
   ]
  },
  {
   "cell_type": "markdown",
   "id": "e860f63c",
   "metadata": {},
   "source": [
    "# Building and Evaluating Model for Mel Spectrogram Feature"
   ]
  },
  {
   "cell_type": "code",
   "execution_count": 18,
   "id": "d7b41e3b",
   "metadata": {},
   "outputs": [
    {
     "data": {
      "text/plain": [
       "RandomForestClassifier()"
      ]
     },
     "execution_count": 18,
     "metadata": {},
     "output_type": "execute_result"
    }
   ],
   "source": [
    "svm = SVC(probability=True)\n",
    "nbc = GaussianNB()\n",
    "rfc = RandomForestClassifier()\n",
    "svm.fit(x_train_melspectrogram, y_train)\n",
    "nbc.fit(x_train_melspectrogram, y_train)\n",
    "rfc.fit(x_train_melspectrogram, y_train)"
   ]
  },
  {
   "cell_type": "code",
   "execution_count": 19,
   "id": "e75ac16e",
   "metadata": {},
   "outputs": [],
   "source": [
    "y_svm_predicted = svm.predict(x_test_melspectrogram)\n",
    "y_svm_pred_proba = svm.predict_proba(x_test_melspectrogram)\n",
    "\n",
    "y_nbc_predicted = nbc.predict(x_test_melspectrogram)\n",
    "y_nbc_pred_proba = nbc.predict_proba(x_test_melspectrogram)\n",
    "\n",
    "y_rfc_predicted = rfc.predict(x_test_melspectrogram)\n",
    "y_rfc_pred_proba = rfc.predict_proba(x_test_melspectrogram)"
   ]
  },
  {
   "cell_type": "code",
   "execution_count": 20,
   "id": "7b0b38cc",
   "metadata": {},
   "outputs": [
    {
     "name": "stdout",
     "output_type": "stream",
     "text": [
      "              precision    recall  f1-score   support\n",
      "\n",
      "       angry       0.83      0.83      0.83        30\n",
      "        fear       0.71      0.67      0.69        30\n",
      "       happy       0.97      0.97      0.97        30\n",
      "         sad       0.81      0.87      0.84        30\n",
      "\n",
      "    accuracy                           0.83       120\n",
      "   macro avg       0.83      0.83      0.83       120\n",
      "weighted avg       0.83      0.83      0.83       120\n",
      "\n",
      "              precision    recall  f1-score   support\n",
      "\n",
      "       angry       1.00      0.73      0.85        30\n",
      "        fear       0.67      0.80      0.73        30\n",
      "       happy       0.70      0.93      0.80        30\n",
      "         sad       1.00      0.73      0.85        30\n",
      "\n",
      "    accuracy                           0.80       120\n",
      "   macro avg       0.84      0.80      0.80       120\n",
      "weighted avg       0.84      0.80      0.80       120\n",
      "\n",
      "              precision    recall  f1-score   support\n",
      "\n",
      "       angry       1.00      0.97      0.98        30\n",
      "        fear       0.90      0.93      0.92        30\n",
      "       happy       0.90      0.90      0.90        30\n",
      "         sad       1.00      1.00      1.00        30\n",
      "\n",
      "    accuracy                           0.95       120\n",
      "   macro avg       0.95      0.95      0.95       120\n",
      "weighted avg       0.95      0.95      0.95       120\n",
      "\n"
     ]
    }
   ],
   "source": [
    "print(classification_report(y_test, y_svm_predicted))\n",
    "print(classification_report(y_test, y_nbc_predicted))\n",
    "print(classification_report(y_test, y_rfc_predicted))"
   ]
  },
  {
   "cell_type": "code",
   "execution_count": 21,
   "id": "1eddfc92",
   "metadata": {},
   "outputs": [
    {
     "data": {
      "image/png": "[encoded data removed]",
      "text/plain": [
       "<Figure size 432x288 with 1 Axes>"
      ]
     },
     "metadata": {
      "needs_background": "light"
     },
     "output_type": "display_data"
    },
    {
     "data": {
      "image/png": "[encoded data removed]",
      "text/plain": [
       "<Figure size 432x288 with 1 Axes>"
      ]
     },
     "metadata": {
      "needs_background": "light"
     },
     "output_type": "display_data"
    },
    {
     "data": {
      "image/png": "[encoded data removed]",
      "text/plain": [
       "<Figure size 432x288 with 1 Axes>"
      ]
     },
     "metadata": {
      "needs_background": "light"
     },
     "output_type": "display_data"
    }
   ],
   "source": [
    "models = ['Support Vector Machine for Mel Spectrogram', 'Naive Bayes Classifier for Mel Spectrogram', 'Random Forest Classifier for Mel Spectrogram']\n",
    "predictions = [y_svm_predicted, y_nbc_predicted, y_rfc_predicted]\n",
    "pred_probabilities = [y_svm_pred_proba, y_nbc_pred_proba, y_rfc_pred_proba]\n",
    "\n",
    "plot = 1\n",
    "\n",
    "for model, prediction, pred_proba in zip(models, predictions, pred_probabilities):\n",
    "    disp = ConfusionMatrixDisplay(confusion_matrix(y_test, prediction))\n",
    "    disp.plot(\n",
    "        include_values=True,\n",
    "        cmap='gray',\n",
    "        colorbar=False\n",
    "    )\n",
    "    disp.ax_.set_title(f\"{model} Confusion Matrix\")"
   ]
  },
  {
   "cell_type": "code",
   "execution_count": null,
   "id": "3f393e4e",
   "metadata": {},
   "outputs": [],
   "source": []
  }
 ],
 "metadata": {
  "kernelspec": {
   "display_name": "Python 3 (ipykernel)",
   "language": "python",
   "name": "python3"
  },
  "language_info": {
   "codemirror_mode": {
    "name": "ipython",
    "version": 3
   },
   "file_extension": ".py",
   "mimetype": "text/x-python",
   "name": "python",
   "nbconvert_exporter": "python",
   "pygments_lexer": "ipython3",
   "version": "3.9.7"
  }
 },
 "nbformat": 4,
 "nbformat_minor": 5
}
